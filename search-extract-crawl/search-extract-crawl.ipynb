{
 "cells": [
  {
   "cell_type": "code",
   "execution_count": 2,
   "metadata": {},
   "outputs": [],
   "source": [
    "import os\n",
    "import getpass\n",
    "from dotenv import load_dotenv\n",
    "from tavily import TavilyClient\n",
    "\n",
    "# Load environment variables from .env file\n",
    "load_dotenv()\n",
    "\n",
    "# Prompt the user to securely input the API key if not already set in the environment\n",
    "if not os.environ.get(\"TAVILY_API_KEY\"):\n",
    "    os.environ[\"TAVILY_API_KEY\"] = getpass.getpass(\"TAVILY_API_KEY:\\n\")\n",
    "\n",
    "# Initialize the Tavily API client using the loaded or provided API key\n",
    "tavily_client = TavilyClient(api_key=os.getenv(\"TAVILY_API_KEY\"))"
   ]
  },
  {
   "cell_type": "code",
   "execution_count": 3,
   "metadata": {},
   "outputs": [],
   "source": [
    "# Perform a web search to retrieve the most up-to-date information available.\n",
    "search_results = tavily_client.search(\n",
    "    query=\"What happened in NYC today?\", max_results=5\n",
    ")"
   ]
  },
  {
   "cell_type": "code",
   "execution_count": null,
   "metadata": {},
   "outputs": [],
   "source": [
    "# Print the results\n",
    "for result in search_results[\"results\"]:\n",
    "    print(result[\"title\"])\n",
    "    print(result[\"url\"])\n",
    "    print(result[\"content\"])\n",
    "    print(result[\"score\"])\n",
    "    print(\"\\n\")"
   ]
  },
  {
   "cell_type": "code",
   "execution_count": 5,
   "metadata": {},
   "outputs": [],
   "source": [
    "# Perform a web search with a specific time range, domain filter, and topic filter.\n",
    "search_results = tavily_client.search(\n",
    "    query=\"Anthropic model release?\",\n",
    "    max_results=5,\n",
    "    time_range=\"month\",\n",
    "    include_domains=[\"techcrunch.com\"],\n",
    "    topic=\"news\",\n",
    ")"
   ]
  },
  {
   "cell_type": "code",
   "execution_count": null,
   "metadata": {},
   "outputs": [],
   "source": [
    "# Print the results\n",
    "for result in search_results[\"results\"]:\n",
    "    print(result[\"title\"])\n",
    "    print(result[\"url\"])\n",
    "    print(result[\"content\"])\n",
    "    print(\"\\n\")"
   ]
  },
  {
   "cell_type": "code",
   "execution_count": 7,
   "metadata": {},
   "outputs": [],
   "source": [
    "# Extract the full-page content from the URLs in the search results.\n",
    "extract_results = tavily_client.extract(\n",
    "    urls=[result[\"url\"] for result in search_results[\"results\"]],\n",
    "    # extract_depth=\"advanced\", #uncomment to use our advanced extract depth for complex web pages with dynamic content, embedded media, or structured data.\n",
    ")"
   ]
  },
  {
   "cell_type": "code",
   "execution_count": null,
   "metadata": {},
   "outputs": [],
   "source": [
    "# Print the results\n",
    "for result in extract_results[\"results\"]:\n",
    "    print(result[\"url\"])\n",
    "    print(result[\"raw_content\"])\n",
    "    print(\"\\n\")"
   ]
  },
  {
   "cell_type": "code",
   "execution_count": 9,
   "metadata": {},
   "outputs": [],
   "source": [
    "# Perform a web search with live content extraction.\n",
    "search_results = tavily_client.search(\n",
    "    query=\"Anthropic model release?\",\n",
    "    max_results=1,\n",
    "    include_raw_content=True,\n",
    ")"
   ]
  },
  {
   "cell_type": "code",
   "execution_count": null,
   "metadata": {},
   "outputs": [],
   "source": [
    "# Print the results\n",
    "for result in search_results[\"results\"]:\n",
    "    print(result[\"url\"])\n",
    "    print(result[\"content\"])\n",
    "    print(result[\"score\"])\n",
    "    print(result[\"raw_content\"])\n",
    "    print(\"\\n\")"
   ]
  },
  {
   "cell_type": "code",
   "execution_count": 11,
   "metadata": {},
   "outputs": [],
   "source": [
    "# Crawl the Tavily website\n",
    "crawl_results = tavily_client.crawl(url=\"tavily.com\")"
   ]
  },
  {
   "cell_type": "code",
   "execution_count": null,
   "metadata": {},
   "outputs": [],
   "source": [
    "# Print the results\n",
    "for result in crawl_results[\"results\"]:\n",
    "    print(result[\"url\"])"
   ]
  },
  {
   "cell_type": "code",
   "execution_count": null,
   "metadata": {},
   "outputs": [],
   "source": [
    "# Print the results\n",
    "for result in crawl_results[\"results\"]:\n",
    "    print(result[\"url\"])\n",
    "    print(result[\"raw_content\"])\n",
    "    print(\"\\n\")"
   ]
  },
  {
   "cell_type": "code",
   "execution_count": 14,
   "metadata": {},
   "outputs": [],
   "source": [
    "# Map the Tavily website\n",
    "map_results = tavily_client.map(url=\"tavily.com\")"
   ]
  },
  {
   "cell_type": "code",
   "execution_count": null,
   "metadata": {},
   "outputs": [],
   "source": [
    "# Print the results\n",
    "map_results"
   ]
  },
  {
   "cell_type": "code",
   "execution_count": 16,
   "metadata": {},
   "outputs": [],
   "source": [
    "# Map the Tavily website with natural language instructions\n",
    "guided_map_results = tavily_client.map(\n",
    "    url=\"tavily.com\", instructions=\"find only the developer docs\"\n",
    ")"
   ]
  },
  {
   "cell_type": "code",
   "execution_count": null,
   "metadata": {},
   "outputs": [],
   "source": [
    "guided_map_results"
   ]
  }
 ],
 "metadata": {
  "kernelspec": {
   "display_name": "venv",
   "language": "python",
   "name": "python3"
  },
  "language_info": {
   "codemirror_mode": {
    "name": "ipython",
    "version": 3
   },
   "file_extension": ".py",
   "mimetype": "text/x-python",
   "name": "python",
   "nbconvert_exporter": "python",
   "pygments_lexer": "ipython3",
   "version": "3.13.2"
  }
 },
 "nbformat": 4,
 "nbformat_minor": 2
}
